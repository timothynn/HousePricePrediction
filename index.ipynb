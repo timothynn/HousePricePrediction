{
 "cells": [
  {
   "cell_type": "markdown",
   "metadata": {},
   "source": [
    "# Import Libraries"
   ]
  },
  {
   "cell_type": "code",
   "execution_count": 1,
   "metadata": {},
   "outputs": [],
   "source": [
    "import pandas as pd\n",
    "import numpy as np\n",
    "from sklearn.ensemble import RandomForestRegressor\n",
    "from sklearn.impute import SimpleImputer\n",
    "from sklearn.compose import ColumnTransformer\n",
    "from sklearn.metrics import mean_absolute_error\n",
    "from sklearn.pipeline import Pipeline, make_pipeline\n",
    "from sklearn.preprocessing import OneHotEncoder, StandardScaler\n",
    "from sklearn.model_selection import train_test_split"
   ]
  },
  {
   "cell_type": "markdown",
   "metadata": {},
   "source": [
    "### Train Data"
   ]
  },
  {
   "cell_type": "code",
   "execution_count": 22,
   "metadata": {},
   "outputs": [],
   "source": [
    "train_data = pd.read_csv('./train.csv', index_col='Id')\n",
    "train_data\n",
    "# train_data.shape\n",
    "train_data = train_data.dropna(axis=1)\n",
    "\n",
    "\n",
    "X = train_data.dropna(axis=0, subset=\"SalePrice\")\n",
    "\n",
    "y = train_data.SalePrice\n",
    "\n",
    "X = X.drop(\"SalePrice\", axis=1)\n",
    "\n",
    "\n",
    "\n",
    "X_train, X_valid, y_train, y_valid = train_test_split(X, y, train_size=0.8, test_size=0.2, random_state=0)"
   ]
  },
  {
   "cell_type": "code",
   "execution_count": 24,
   "metadata": {},
   "outputs": [
    {
     "name": "stdout",
     "output_type": "stream",
     "text": [
      "    MSSubClass MSZoning  LotArea Street LotShape LandContour Utilities  \\\n",
      "Id                                                                       \n",
      "1           60       RL     8450   Pave      Reg         Lvl    AllPub   \n",
      "2           20       RL     9600   Pave      Reg         Lvl    AllPub   \n",
      "3           60       RL    11250   Pave      IR1         Lvl    AllPub   \n",
      "4           70       RL     9550   Pave      IR1         Lvl    AllPub   \n",
      "5           60       RL    14260   Pave      IR1         Lvl    AllPub   \n",
      "\n",
      "   LotConfig LandSlope Neighborhood  ... OpenPorchSF EnclosedPorch 3SsnPorch  \\\n",
      "Id                                   ...                                       \n",
      "1     Inside       Gtl      CollgCr  ...          61             0         0   \n",
      "2        FR2       Gtl      Veenker  ...           0             0         0   \n",
      "3     Inside       Gtl      CollgCr  ...          42             0         0   \n",
      "4     Corner       Gtl      Crawfor  ...          35           272         0   \n",
      "5        FR2       Gtl      NoRidge  ...          84             0         0   \n",
      "\n",
      "   ScreenPorch  PoolArea  MiscVal  MoSold  YrSold SaleType SaleCondition  \n",
      "Id                                                                        \n",
      "1            0         0        0       2    2008       WD        Normal  \n",
      "2            0         0        0       5    2007       WD        Normal  \n",
      "3            0         0        0       9    2008       WD        Normal  \n",
      "4            0         0        0       2    2006       WD       Abnorml  \n",
      "5            0         0        0      12    2008       WD        Normal  \n",
      "\n",
      "[5 rows x 60 columns]\n"
     ]
    },
    {
     "data": {
      "text/plain": [
       "(1460, 60)"
      ]
     },
     "execution_count": 24,
     "metadata": {},
     "output_type": "execute_result"
    }
   ],
   "source": [
    "print(X.head())\n",
    "\n",
    "X.shape"
   ]
  },
  {
   "cell_type": "markdown",
   "metadata": {},
   "source": [
    "# Preprocessing"
   ]
  },
  {
   "cell_type": "code",
   "execution_count": 51,
   "metadata": {},
   "outputs": [
    {
     "name": "stdout",
     "output_type": "stream",
     "text": [
      "Numerical cols: \n",
      " Index(['2ndFlrSF', 'HalfBath', 'MiscVal', 'PoolArea', 'FullBath',\n",
      "       'LowQualFinSF', 'ScreenPorch', 'EnclosedPorch', 'OverallCond',\n",
      "       '3SsnPorch', 'MoSold', 'LotArea', 'WoodDeckSF', 'BedroomAbvGr',\n",
      "       'TotRmsAbvGrd', 'Fireplaces', 'MSSubClass', 'YrSold', 'GrLivArea',\n",
      "       'OverallQual', 'YearRemodAdd', '1stFlrSF', 'YearBuilt', 'KitchenAbvGr',\n",
      "       'OpenPorchSF'],\n",
      "      dtype='object')\n",
      "\n",
      "Categorical cols: \n",
      " Index(['Neighborhood', 'ExterCond', 'LandContour', 'PavedDrive', 'RoofMatl',\n",
      "       'RoofStyle', 'ExterQual', 'Foundation', 'HeatingQC', 'HouseStyle',\n",
      "       'LandSlope', 'BldgType', 'CentralAir', 'Condition2', 'SaleCondition',\n",
      "       'Condition1', 'Street', 'LotConfig', 'Heating', 'LotShape'],\n",
      "      dtype='object')\n"
     ]
    }
   ],
   "source": [
    "features = [\"MSSubClass\",\t\"MSZoning\",\t\"LotArea\",\t\"Street\",\t\"LotShape\",\t\"LandContour\",\t\"Utilities\",\t\"LotConfig\",\t\"LandSlope\",\t\"Neighborhood\",\n",
    " \"EnclosedPorch\",\t\"3SsnPorch\",\t\"ScreenPorch\",\t\"PoolArea\",\t\"MiscVal\", \"MoSold\",\"YrSold\", \"SaleType\", \"SaleCondition\"]\n",
    "\n",
    "features_1 = [\n",
    "\t\"WoodDeckSF\",\t\"OpenPorchSF\",\t\"EnclosedPorch\",\t\"3SsnPorch\",\t\"ScreenPorch\",\t\"PoolArea\",\t\"MiscVal\",\t\"MoSold\",\t\"YrSold\",\t\"SaleCondition\",\n",
    "    \t\"MSSubClass\",\t\"LotArea\",\t\"Street\",\t\"LotShape\",\t\"LandContour\",\t\"LotConfig\",\t\"LandSlope\",\t\"Neighborhood\",\t\"Condition1\",\t\"Condition2\",\n",
    "]\n",
    "\n",
    "features_2 = [ 'MSSubClass', 'LotArea', 'Street', 'LotShape', 'LandContour',\n",
    "'LotConfig', 'LandSlope', 'Neighborhood', 'Condition1', 'Condition2',\n",
    "'BldgType', 'HouseStyle', 'OverallQual', 'OverallCond', 'YearBuilt',\n",
    "'YearRemodAdd', 'RoofStyle', 'RoofMatl', 'ExterQual', 'ExterCond',\n",
    "'Foundation', 'Heating', 'HeatingQC', 'CentralAir', 'Electrical',\n",
    "'1stFlrSF', '2ndFlrSF', 'LowQualFinSF', 'GrLivArea', 'FullBath',\n",
    "'HalfBath', 'BedroomAbvGr', 'KitchenAbvGr', 'TotRmsAbvGrd',\n",
    "'Fireplaces', 'PavedDrive', 'WoodDeckSF', 'OpenPorchSF',\n",
    "'EnclosedPorch', '3SsnPorch', 'ScreenPorch', 'PoolArea', 'MiscVal',\n",
    "'MoSold', 'YrSold', 'SaleCondition']\n",
    "\n",
    "feature_3 = list(set(X.columns) - set(['BsmtFinSF1',\n",
    " 'BsmtFinSF2',\n",
    " 'BsmtFullBath',\n",
    " 'BsmtHalfBath',\n",
    " 'BsmtUnfSF',\n",
    " 'Exterior1st',\n",
    " 'Exterior2nd',\n",
    " 'Functional',\n",
    " 'GarageArea',\n",
    " 'GarageCars',\n",
    " 'KitchenQual',\n",
    " 'MSZoning',\n",
    " 'SaleType',\n",
    " 'TotalBsmtSF',\n",
    " 'Utilities']))\n",
    "\n",
    "refined_X = X[feature_3]\n",
    "\n",
    "numerical_cols = refined_X.select_dtypes(include=\"number\").columns\n",
    "\n",
    "print(\"Numerical cols: \\n\", numerical_cols)\n",
    "\n",
    "categorical_cols = refined_X.select_dtypes(include=\"object\").columns\n",
    "\n",
    "print(\"\\nCategorical cols: \\n\", categorical_cols)"
   ]
  },
  {
   "cell_type": "code",
   "execution_count": 54,
   "metadata": {},
   "outputs": [
    {
     "name": "stdout",
     "output_type": "stream",
     "text": [
      "MAE: 17999.492087573388\n"
     ]
    }
   ],
   "source": [
    "from xgboost import XGBRegressor\n",
    "\n",
    "numerical_transformer = StandardScaler()\n",
    "\n",
    "categorical_transformer = Pipeline(steps=[  \n",
    "    # ('imputer', SimpleImputer(strategy='constant')),\n",
    "    ('onehot', OneHotEncoder(handle_unknown='ignore'))\n",
    "])\n",
    "\n",
    "preprocessor = ColumnTransformer(\n",
    "    transformers=[\n",
    "        ('num', numerical_transformer, numerical_cols),\n",
    "        ('cat', categorical_transformer, categorical_cols)\n",
    "    ])\n",
    "\n",
    "mlpipe = Pipeline(steps=[('preprocessor', preprocessor),\n",
    "                        ('model', RandomForestRegressor(n_estimators=1000, random_state=0))\n",
    "])\n",
    "\n",
    "mlpipe.fit(X_train, y_train)\n",
    "\n",
    "preds = mlpipe.predict(X_valid)\n",
    "\n",
    "mae = mean_absolute_error(y_valid, preds)\n",
    "\n",
    "\n",
    "print(\"MAE:\", mae)"
   ]
  },
  {
   "cell_type": "code",
   "execution_count": 55,
   "metadata": {},
   "outputs": [],
   "source": [
    "import pickle\n",
    "\n",
    "with open('model.pkl', 'wb') as f:\n",
    "    pickle.dump(mlpipe, f)\n"
   ]
  },
  {
   "cell_type": "code",
   "execution_count": 56,
   "metadata": {},
   "outputs": [
    {
     "data": {
      "text/html": [
       "<style>#sk-container-id-2 {color: black;background-color: white;}#sk-container-id-2 pre{padding: 0;}#sk-container-id-2 div.sk-toggleable {background-color: white;}#sk-container-id-2 label.sk-toggleable__label {cursor: pointer;display: block;width: 100%;margin-bottom: 0;padding: 0.3em;box-sizing: border-box;text-align: center;}#sk-container-id-2 label.sk-toggleable__label-arrow:before {content: \"▸\";float: left;margin-right: 0.25em;color: #696969;}#sk-container-id-2 label.sk-toggleable__label-arrow:hover:before {color: black;}#sk-container-id-2 div.sk-estimator:hover label.sk-toggleable__label-arrow:before {color: black;}#sk-container-id-2 div.sk-toggleable__content {max-height: 0;max-width: 0;overflow: hidden;text-align: left;background-color: #f0f8ff;}#sk-container-id-2 div.sk-toggleable__content pre {margin: 0.2em;color: black;border-radius: 0.25em;background-color: #f0f8ff;}#sk-container-id-2 input.sk-toggleable__control:checked~div.sk-toggleable__content {max-height: 200px;max-width: 100%;overflow: auto;}#sk-container-id-2 input.sk-toggleable__control:checked~label.sk-toggleable__label-arrow:before {content: \"▾\";}#sk-container-id-2 div.sk-estimator input.sk-toggleable__control:checked~label.sk-toggleable__label {background-color: #d4ebff;}#sk-container-id-2 div.sk-label input.sk-toggleable__control:checked~label.sk-toggleable__label {background-color: #d4ebff;}#sk-container-id-2 input.sk-hidden--visually {border: 0;clip: rect(1px 1px 1px 1px);clip: rect(1px, 1px, 1px, 1px);height: 1px;margin: -1px;overflow: hidden;padding: 0;position: absolute;width: 1px;}#sk-container-id-2 div.sk-estimator {font-family: monospace;background-color: #f0f8ff;border: 1px dotted black;border-radius: 0.25em;box-sizing: border-box;margin-bottom: 0.5em;}#sk-container-id-2 div.sk-estimator:hover {background-color: #d4ebff;}#sk-container-id-2 div.sk-parallel-item::after {content: \"\";width: 100%;border-bottom: 1px solid gray;flex-grow: 1;}#sk-container-id-2 div.sk-label:hover label.sk-toggleable__label {background-color: #d4ebff;}#sk-container-id-2 div.sk-serial::before {content: \"\";position: absolute;border-left: 1px solid gray;box-sizing: border-box;top: 0;bottom: 0;left: 50%;z-index: 0;}#sk-container-id-2 div.sk-serial {display: flex;flex-direction: column;align-items: center;background-color: white;padding-right: 0.2em;padding-left: 0.2em;position: relative;}#sk-container-id-2 div.sk-item {position: relative;z-index: 1;}#sk-container-id-2 div.sk-parallel {display: flex;align-items: stretch;justify-content: center;background-color: white;position: relative;}#sk-container-id-2 div.sk-item::before, #sk-container-id-2 div.sk-parallel-item::before {content: \"\";position: absolute;border-left: 1px solid gray;box-sizing: border-box;top: 0;bottom: 0;left: 50%;z-index: -1;}#sk-container-id-2 div.sk-parallel-item {display: flex;flex-direction: column;z-index: 1;position: relative;background-color: white;}#sk-container-id-2 div.sk-parallel-item:first-child::after {align-self: flex-end;width: 50%;}#sk-container-id-2 div.sk-parallel-item:last-child::after {align-self: flex-start;width: 50%;}#sk-container-id-2 div.sk-parallel-item:only-child::after {width: 0;}#sk-container-id-2 div.sk-dashed-wrapped {border: 1px dashed gray;margin: 0 0.4em 0.5em 0.4em;box-sizing: border-box;padding-bottom: 0.4em;background-color: white;}#sk-container-id-2 div.sk-label label {font-family: monospace;font-weight: bold;display: inline-block;line-height: 1.2em;}#sk-container-id-2 div.sk-label-container {text-align: center;}#sk-container-id-2 div.sk-container {/* jupyter's `normalize.less` sets `[hidden] { display: none; }` but bootstrap.min.css set `[hidden] { display: none !important; }` so we also need the `!important` here to be able to override the default hidden behavior on the sphinx rendered scikit-learn.org. See: https://github.com/scikit-learn/scikit-learn/issues/21755 */display: inline-block !important;position: relative;}#sk-container-id-2 div.sk-text-repr-fallback {display: none;}</style><div id=\"sk-container-id-2\" class=\"sk-top-container\"><div class=\"sk-text-repr-fallback\"><pre>Pipeline(steps=[(&#x27;preprocessor&#x27;,\n",
       "                 ColumnTransformer(transformers=[(&#x27;num&#x27;, StandardScaler(),\n",
       "                                                  Index([&#x27;2ndFlrSF&#x27;, &#x27;HalfBath&#x27;, &#x27;MiscVal&#x27;, &#x27;PoolArea&#x27;, &#x27;FullBath&#x27;,\n",
       "       &#x27;LowQualFinSF&#x27;, &#x27;ScreenPorch&#x27;, &#x27;EnclosedPorch&#x27;, &#x27;OverallCond&#x27;,\n",
       "       &#x27;3SsnPorch&#x27;, &#x27;MoSold&#x27;, &#x27;LotArea&#x27;, &#x27;WoodDeckSF&#x27;, &#x27;BedroomAbvGr&#x27;,\n",
       "       &#x27;TotRmsAbvGrd&#x27;, &#x27;Fireplaces&#x27;, &#x27;MSSubClass&#x27;, &#x27;YrSold&#x27;, &#x27;GrLivArea&#x27;,\n",
       "       &#x27;OverallQual&#x27;, &#x27;YearRe...\n",
       "                                                                   OneHotEncoder(handle_unknown=&#x27;ignore&#x27;))]),\n",
       "                                                  Index([&#x27;Neighborhood&#x27;, &#x27;ExterCond&#x27;, &#x27;LandContour&#x27;, &#x27;PavedDrive&#x27;, &#x27;RoofMatl&#x27;,\n",
       "       &#x27;RoofStyle&#x27;, &#x27;ExterQual&#x27;, &#x27;Foundation&#x27;, &#x27;HeatingQC&#x27;, &#x27;HouseStyle&#x27;,\n",
       "       &#x27;LandSlope&#x27;, &#x27;BldgType&#x27;, &#x27;CentralAir&#x27;, &#x27;Condition2&#x27;, &#x27;SaleCondition&#x27;,\n",
       "       &#x27;Condition1&#x27;, &#x27;Street&#x27;, &#x27;LotConfig&#x27;, &#x27;Heating&#x27;, &#x27;LotShape&#x27;],\n",
       "      dtype=&#x27;object&#x27;))])),\n",
       "                (&#x27;model&#x27;,\n",
       "                 RandomForestRegressor(n_estimators=1000, random_state=0))])</pre><b>In a Jupyter environment, please rerun this cell to show the HTML representation or trust the notebook. <br />On GitHub, the HTML representation is unable to render, please try loading this page with nbviewer.org.</b></div><div class=\"sk-container\" hidden><div class=\"sk-item sk-dashed-wrapped\"><div class=\"sk-label-container\"><div class=\"sk-label sk-toggleable\"><input class=\"sk-toggleable__control sk-hidden--visually\" id=\"sk-estimator-id-9\" type=\"checkbox\" ><label for=\"sk-estimator-id-9\" class=\"sk-toggleable__label sk-toggleable__label-arrow\">Pipeline</label><div class=\"sk-toggleable__content\"><pre>Pipeline(steps=[(&#x27;preprocessor&#x27;,\n",
       "                 ColumnTransformer(transformers=[(&#x27;num&#x27;, StandardScaler(),\n",
       "                                                  Index([&#x27;2ndFlrSF&#x27;, &#x27;HalfBath&#x27;, &#x27;MiscVal&#x27;, &#x27;PoolArea&#x27;, &#x27;FullBath&#x27;,\n",
       "       &#x27;LowQualFinSF&#x27;, &#x27;ScreenPorch&#x27;, &#x27;EnclosedPorch&#x27;, &#x27;OverallCond&#x27;,\n",
       "       &#x27;3SsnPorch&#x27;, &#x27;MoSold&#x27;, &#x27;LotArea&#x27;, &#x27;WoodDeckSF&#x27;, &#x27;BedroomAbvGr&#x27;,\n",
       "       &#x27;TotRmsAbvGrd&#x27;, &#x27;Fireplaces&#x27;, &#x27;MSSubClass&#x27;, &#x27;YrSold&#x27;, &#x27;GrLivArea&#x27;,\n",
       "       &#x27;OverallQual&#x27;, &#x27;YearRe...\n",
       "                                                                   OneHotEncoder(handle_unknown=&#x27;ignore&#x27;))]),\n",
       "                                                  Index([&#x27;Neighborhood&#x27;, &#x27;ExterCond&#x27;, &#x27;LandContour&#x27;, &#x27;PavedDrive&#x27;, &#x27;RoofMatl&#x27;,\n",
       "       &#x27;RoofStyle&#x27;, &#x27;ExterQual&#x27;, &#x27;Foundation&#x27;, &#x27;HeatingQC&#x27;, &#x27;HouseStyle&#x27;,\n",
       "       &#x27;LandSlope&#x27;, &#x27;BldgType&#x27;, &#x27;CentralAir&#x27;, &#x27;Condition2&#x27;, &#x27;SaleCondition&#x27;,\n",
       "       &#x27;Condition1&#x27;, &#x27;Street&#x27;, &#x27;LotConfig&#x27;, &#x27;Heating&#x27;, &#x27;LotShape&#x27;],\n",
       "      dtype=&#x27;object&#x27;))])),\n",
       "                (&#x27;model&#x27;,\n",
       "                 RandomForestRegressor(n_estimators=1000, random_state=0))])</pre></div></div></div><div class=\"sk-serial\"><div class=\"sk-item sk-dashed-wrapped\"><div class=\"sk-label-container\"><div class=\"sk-label sk-toggleable\"><input class=\"sk-toggleable__control sk-hidden--visually\" id=\"sk-estimator-id-10\" type=\"checkbox\" ><label for=\"sk-estimator-id-10\" class=\"sk-toggleable__label sk-toggleable__label-arrow\">preprocessor: ColumnTransformer</label><div class=\"sk-toggleable__content\"><pre>ColumnTransformer(transformers=[(&#x27;num&#x27;, StandardScaler(),\n",
       "                                 Index([&#x27;2ndFlrSF&#x27;, &#x27;HalfBath&#x27;, &#x27;MiscVal&#x27;, &#x27;PoolArea&#x27;, &#x27;FullBath&#x27;,\n",
       "       &#x27;LowQualFinSF&#x27;, &#x27;ScreenPorch&#x27;, &#x27;EnclosedPorch&#x27;, &#x27;OverallCond&#x27;,\n",
       "       &#x27;3SsnPorch&#x27;, &#x27;MoSold&#x27;, &#x27;LotArea&#x27;, &#x27;WoodDeckSF&#x27;, &#x27;BedroomAbvGr&#x27;,\n",
       "       &#x27;TotRmsAbvGrd&#x27;, &#x27;Fireplaces&#x27;, &#x27;MSSubClass&#x27;, &#x27;YrSold&#x27;, &#x27;GrLivArea&#x27;,\n",
       "       &#x27;OverallQual&#x27;, &#x27;YearRemodAdd&#x27;, &#x27;1stFlrSF&#x27;, &#x27;YearBuilt&#x27;, &#x27;...\n",
       "      dtype=&#x27;object&#x27;)),\n",
       "                                (&#x27;cat&#x27;,\n",
       "                                 Pipeline(steps=[(&#x27;onehot&#x27;,\n",
       "                                                  OneHotEncoder(handle_unknown=&#x27;ignore&#x27;))]),\n",
       "                                 Index([&#x27;Neighborhood&#x27;, &#x27;ExterCond&#x27;, &#x27;LandContour&#x27;, &#x27;PavedDrive&#x27;, &#x27;RoofMatl&#x27;,\n",
       "       &#x27;RoofStyle&#x27;, &#x27;ExterQual&#x27;, &#x27;Foundation&#x27;, &#x27;HeatingQC&#x27;, &#x27;HouseStyle&#x27;,\n",
       "       &#x27;LandSlope&#x27;, &#x27;BldgType&#x27;, &#x27;CentralAir&#x27;, &#x27;Condition2&#x27;, &#x27;SaleCondition&#x27;,\n",
       "       &#x27;Condition1&#x27;, &#x27;Street&#x27;, &#x27;LotConfig&#x27;, &#x27;Heating&#x27;, &#x27;LotShape&#x27;],\n",
       "      dtype=&#x27;object&#x27;))])</pre></div></div></div><div class=\"sk-parallel\"><div class=\"sk-parallel-item\"><div class=\"sk-item\"><div class=\"sk-label-container\"><div class=\"sk-label sk-toggleable\"><input class=\"sk-toggleable__control sk-hidden--visually\" id=\"sk-estimator-id-11\" type=\"checkbox\" ><label for=\"sk-estimator-id-11\" class=\"sk-toggleable__label sk-toggleable__label-arrow\">num</label><div class=\"sk-toggleable__content\"><pre>Index([&#x27;2ndFlrSF&#x27;, &#x27;HalfBath&#x27;, &#x27;MiscVal&#x27;, &#x27;PoolArea&#x27;, &#x27;FullBath&#x27;,\n",
       "       &#x27;LowQualFinSF&#x27;, &#x27;ScreenPorch&#x27;, &#x27;EnclosedPorch&#x27;, &#x27;OverallCond&#x27;,\n",
       "       &#x27;3SsnPorch&#x27;, &#x27;MoSold&#x27;, &#x27;LotArea&#x27;, &#x27;WoodDeckSF&#x27;, &#x27;BedroomAbvGr&#x27;,\n",
       "       &#x27;TotRmsAbvGrd&#x27;, &#x27;Fireplaces&#x27;, &#x27;MSSubClass&#x27;, &#x27;YrSold&#x27;, &#x27;GrLivArea&#x27;,\n",
       "       &#x27;OverallQual&#x27;, &#x27;YearRemodAdd&#x27;, &#x27;1stFlrSF&#x27;, &#x27;YearBuilt&#x27;, &#x27;KitchenAbvGr&#x27;,\n",
       "       &#x27;OpenPorchSF&#x27;],\n",
       "      dtype=&#x27;object&#x27;)</pre></div></div></div><div class=\"sk-serial\"><div class=\"sk-item\"><div class=\"sk-estimator sk-toggleable\"><input class=\"sk-toggleable__control sk-hidden--visually\" id=\"sk-estimator-id-12\" type=\"checkbox\" ><label for=\"sk-estimator-id-12\" class=\"sk-toggleable__label sk-toggleable__label-arrow\">StandardScaler</label><div class=\"sk-toggleable__content\"><pre>StandardScaler()</pre></div></div></div></div></div></div><div class=\"sk-parallel-item\"><div class=\"sk-item\"><div class=\"sk-label-container\"><div class=\"sk-label sk-toggleable\"><input class=\"sk-toggleable__control sk-hidden--visually\" id=\"sk-estimator-id-13\" type=\"checkbox\" ><label for=\"sk-estimator-id-13\" class=\"sk-toggleable__label sk-toggleable__label-arrow\">cat</label><div class=\"sk-toggleable__content\"><pre>Index([&#x27;Neighborhood&#x27;, &#x27;ExterCond&#x27;, &#x27;LandContour&#x27;, &#x27;PavedDrive&#x27;, &#x27;RoofMatl&#x27;,\n",
       "       &#x27;RoofStyle&#x27;, &#x27;ExterQual&#x27;, &#x27;Foundation&#x27;, &#x27;HeatingQC&#x27;, &#x27;HouseStyle&#x27;,\n",
       "       &#x27;LandSlope&#x27;, &#x27;BldgType&#x27;, &#x27;CentralAir&#x27;, &#x27;Condition2&#x27;, &#x27;SaleCondition&#x27;,\n",
       "       &#x27;Condition1&#x27;, &#x27;Street&#x27;, &#x27;LotConfig&#x27;, &#x27;Heating&#x27;, &#x27;LotShape&#x27;],\n",
       "      dtype=&#x27;object&#x27;)</pre></div></div></div><div class=\"sk-serial\"><div class=\"sk-item\"><div class=\"sk-serial\"><div class=\"sk-item\"><div class=\"sk-estimator sk-toggleable\"><input class=\"sk-toggleable__control sk-hidden--visually\" id=\"sk-estimator-id-14\" type=\"checkbox\" ><label for=\"sk-estimator-id-14\" class=\"sk-toggleable__label sk-toggleable__label-arrow\">OneHotEncoder</label><div class=\"sk-toggleable__content\"><pre>OneHotEncoder(handle_unknown=&#x27;ignore&#x27;)</pre></div></div></div></div></div></div></div></div></div></div><div class=\"sk-item\"><div class=\"sk-estimator sk-toggleable\"><input class=\"sk-toggleable__control sk-hidden--visually\" id=\"sk-estimator-id-15\" type=\"checkbox\" ><label for=\"sk-estimator-id-15\" class=\"sk-toggleable__label sk-toggleable__label-arrow\">RandomForestRegressor</label><div class=\"sk-toggleable__content\"><pre>RandomForestRegressor(n_estimators=1000, random_state=0)</pre></div></div></div></div></div></div></div>"
      ],
      "text/plain": [
       "Pipeline(steps=[('preprocessor',\n",
       "                 ColumnTransformer(transformers=[('num', StandardScaler(),\n",
       "                                                  Index(['2ndFlrSF', 'HalfBath', 'MiscVal', 'PoolArea', 'FullBath',\n",
       "       'LowQualFinSF', 'ScreenPorch', 'EnclosedPorch', 'OverallCond',\n",
       "       '3SsnPorch', 'MoSold', 'LotArea', 'WoodDeckSF', 'BedroomAbvGr',\n",
       "       'TotRmsAbvGrd', 'Fireplaces', 'MSSubClass', 'YrSold', 'GrLivArea',\n",
       "       'OverallQual', 'YearRe...\n",
       "                                                                   OneHotEncoder(handle_unknown='ignore'))]),\n",
       "                                                  Index(['Neighborhood', 'ExterCond', 'LandContour', 'PavedDrive', 'RoofMatl',\n",
       "       'RoofStyle', 'ExterQual', 'Foundation', 'HeatingQC', 'HouseStyle',\n",
       "       'LandSlope', 'BldgType', 'CentralAir', 'Condition2', 'SaleCondition',\n",
       "       'Condition1', 'Street', 'LotConfig', 'Heating', 'LotShape'],\n",
       "      dtype='object'))])),\n",
       "                ('model',\n",
       "                 RandomForestRegressor(n_estimators=1000, random_state=0))])"
      ]
     },
     "execution_count": 56,
     "metadata": {},
     "output_type": "execute_result"
    }
   ],
   "source": [
    "with open('model.pkl', 'rb') as f:\n",
    "    model = pickle.load(f)\n",
    "\n",
    "model"
   ]
  },
  {
   "cell_type": "markdown",
   "metadata": {},
   "source": [
    "### Making Predictions on Test Data"
   ]
  },
  {
   "cell_type": "code",
   "execution_count": 58,
   "metadata": {},
   "outputs": [
    {
     "data": {
      "text/plain": [
       "array([124090.023, 156056.885, 179238.789, ..., 149933.078, 128585.8  ,\n",
       "       239014.927])"
      ]
     },
     "execution_count": 58,
     "metadata": {},
     "output_type": "execute_result"
    }
   ],
   "source": [
    "test_data = pd.read_csv('./test.csv', index_col='Id')\n",
    "X_test = test_data.dropna(axis=1)\n",
    "\n",
    "X_test = X_test[feature_3]\n",
    "\n",
    "preds_test = mlpipe.predict(X_test)\n",
    "preds_test"
   ]
  },
  {
   "cell_type": "code",
   "execution_count": 59,
   "metadata": {},
   "outputs": [],
   "source": [
    "out = pd.DataFrame({'Id': X_test.index, 'SalePrice': preds_test.astype(int)})\n",
    "\n",
    "out = out.to_csv('submission.csv', index=False)"
   ]
  },
  {
   "cell_type": "code",
   "execution_count": 63,
   "metadata": {},
   "outputs": [],
   "source": [
    "out"
   ]
  }
 ],
 "metadata": {
  "kernelspec": {
   "display_name": "Python 3.10.4 64-bit",
   "language": "python",
   "name": "python3"
  },
  "language_info": {
   "codemirror_mode": {
    "name": "ipython",
    "version": 3
   },
   "file_extension": ".py",
   "mimetype": "text/x-python",
   "name": "python",
   "nbconvert_exporter": "python",
   "pygments_lexer": "ipython3",
   "version": "3.10.4"
  },
  "orig_nbformat": 4,
  "vscode": {
   "interpreter": {
    "hash": "e7370f93d1d0cde622a1f8e1c04877d8463912d04d973331ad4851f04de6915a"
   }
  }
 },
 "nbformat": 4,
 "nbformat_minor": 2
}
